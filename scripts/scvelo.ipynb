{
 "cells": [
  {
   "cell_type": "code",
   "execution_count": 13,
   "metadata": {},
   "outputs": [],
   "source": [
    "import scvelo as scv\n",
    "import pandas as pd\n",
    "import csv"
   ]
  },
  {
   "cell_type": "code",
   "execution_count": 2,
   "metadata": {},
   "outputs": [],
   "source": [
    "scv.set_figure_params()"
   ]
  },
  {
   "cell_type": "code",
   "execution_count": 3,
   "metadata": {},
   "outputs": [
    {
     "name": "stderr",
     "output_type": "stream",
     "text": [
      "Variable names are not unique. To make them unique, call `.var_names_make_unique`.\n"
     ]
    },
    {
     "data": {
      "text/plain": [
       "<bound method AnnData.var_names_make_unique of AnnData object with n_obs × n_vars = 383 × 63736\n",
       "    var: 'Accession', 'Chromosome', 'End', 'Start', 'Strand'\n",
       "    layers: 'ambiguous', 'matrix', 'spanning', 'spliced', 'unspliced'>"
      ]
     },
     "execution_count": 3,
     "metadata": {},
     "output_type": "execute_result"
    }
   ],
   "source": [
    "adata = scv.read(\"/Users/franziskahildebrandt/t.gondi_dc/data/velocyto/OUTPUT/131/onefilepercell_A10_R1_and_others_KC4RZ.loom\", cache=True)\n",
    "adata.var\n",
    "adata.var_names_make_unique"
   ]
  },
  {
   "cell_type": "code",
   "execution_count": 4,
   "metadata": {},
   "outputs": [
    {
     "data": {
      "text/html": [
       "<div>\n",
       "<style scoped>\n",
       "    .dataframe tbody tr th:only-of-type {\n",
       "        vertical-align: middle;\n",
       "    }\n",
       "\n",
       "    .dataframe tbody tr th {\n",
       "        vertical-align: top;\n",
       "    }\n",
       "\n",
       "    .dataframe thead th {\n",
       "        text-align: right;\n",
       "    }\n",
       "</style>\n",
       "<table border=\"1\" class=\"dataframe\">\n",
       "  <thead>\n",
       "    <tr style=\"text-align: right;\">\n",
       "      <th></th>\n",
       "      <th>Accession</th>\n",
       "      <th>Chromosome</th>\n",
       "      <th>End</th>\n",
       "      <th>Start</th>\n",
       "      <th>Strand</th>\n",
       "    </tr>\n",
       "  </thead>\n",
       "  <tbody>\n",
       "    <tr>\n",
       "      <th>Xkr4</th>\n",
       "      <td>ENSMUSG00000051951</td>\n",
       "      <td>1</td>\n",
       "      <td>3741721</td>\n",
       "      <td>3276124</td>\n",
       "      <td>-</td>\n",
       "    </tr>\n",
       "    <tr>\n",
       "      <th>Gm37180</th>\n",
       "      <td>ENSMUSG00000103377</td>\n",
       "      <td>1</td>\n",
       "      <td>3438772</td>\n",
       "      <td>3435954</td>\n",
       "      <td>-</td>\n",
       "    </tr>\n",
       "    <tr>\n",
       "      <th>Gm37363</th>\n",
       "      <td>ENSMUSG00000104017</td>\n",
       "      <td>1</td>\n",
       "      <td>3448011</td>\n",
       "      <td>3445779</td>\n",
       "      <td>-</td>\n",
       "    </tr>\n",
       "    <tr>\n",
       "      <th>Gm37686</th>\n",
       "      <td>ENSMUSG00000103025</td>\n",
       "      <td>1</td>\n",
       "      <td>3537508</td>\n",
       "      <td>3535200</td>\n",
       "      <td>-</td>\n",
       "    </tr>\n",
       "    <tr>\n",
       "      <th>Gm37329</th>\n",
       "      <td>ENSMUSG00000103201</td>\n",
       "      <td>1</td>\n",
       "      <td>3584730</td>\n",
       "      <td>3582674</td>\n",
       "      <td>-</td>\n",
       "    </tr>\n",
       "    <tr>\n",
       "      <th>...</th>\n",
       "      <td>...</td>\n",
       "      <td>...</td>\n",
       "      <td>...</td>\n",
       "      <td>...</td>\n",
       "      <td>...</td>\n",
       "    </tr>\n",
       "    <tr>\n",
       "      <th>Gm29504</th>\n",
       "      <td>ENSMUSG00000100533</td>\n",
       "      <td>Y</td>\n",
       "      <td>90288770</td>\n",
       "      <td>90286493</td>\n",
       "      <td>+</td>\n",
       "    </tr>\n",
       "    <tr>\n",
       "      <th>Gm20837</th>\n",
       "      <td>ENSMUSG00000096178</td>\n",
       "      <td>Y</td>\n",
       "      <td>90444532</td>\n",
       "      <td>90412517</td>\n",
       "      <td>+</td>\n",
       "    </tr>\n",
       "    <tr>\n",
       "      <th>Mid1-ps1</th>\n",
       "      <td>ENSMUSG00000095134</td>\n",
       "      <td>Y</td>\n",
       "      <td>90774754</td>\n",
       "      <td>90764326</td>\n",
       "      <td>+</td>\n",
       "    </tr>\n",
       "    <tr>\n",
       "      <th>Gm47283</th>\n",
       "      <td>ENSMUSG00000096768</td>\n",
       "      <td>Y</td>\n",
       "      <td>90827734</td>\n",
       "      <td>90796007</td>\n",
       "      <td>+</td>\n",
       "    </tr>\n",
       "    <tr>\n",
       "      <th>Gm21742</th>\n",
       "      <td>ENSMUSG00000099871</td>\n",
       "      <td>Y</td>\n",
       "      <td>90855309</td>\n",
       "      <td>90848682</td>\n",
       "      <td>+</td>\n",
       "    </tr>\n",
       "  </tbody>\n",
       "</table>\n",
       "<p>63736 rows × 5 columns</p>\n",
       "</div>"
      ],
      "text/plain": [
       "                   Accession Chromosome       End     Start Strand\n",
       "Xkr4      ENSMUSG00000051951          1   3741721   3276124      -\n",
       "Gm37180   ENSMUSG00000103377          1   3438772   3435954      -\n",
       "Gm37363   ENSMUSG00000104017          1   3448011   3445779      -\n",
       "Gm37686   ENSMUSG00000103025          1   3537508   3535200      -\n",
       "Gm37329   ENSMUSG00000103201          1   3584730   3582674      -\n",
       "...                      ...        ...       ...       ...    ...\n",
       "Gm29504   ENSMUSG00000100533          Y  90288770  90286493      +\n",
       "Gm20837   ENSMUSG00000096178          Y  90444532  90412517      +\n",
       "Mid1-ps1  ENSMUSG00000095134          Y  90774754  90764326      +\n",
       "Gm47283   ENSMUSG00000096768          Y  90827734  90796007      +\n",
       "Gm21742   ENSMUSG00000099871          Y  90855309  90848682      +\n",
       "\n",
       "[63736 rows x 5 columns]"
      ]
     },
     "execution_count": 4,
     "metadata": {},
     "output_type": "execute_result"
    }
   ],
   "source": [
    "adata.var"
   ]
  },
  {
   "cell_type": "code",
   "execution_count": 17,
   "metadata": {},
   "outputs": [
    {
     "data": {
      "text/html": [
       "<div>\n",
       "<style scoped>\n",
       "    .dataframe tbody tr th:only-of-type {\n",
       "        vertical-align: middle;\n",
       "    }\n",
       "\n",
       "    .dataframe tbody tr th {\n",
       "        vertical-align: top;\n",
       "    }\n",
       "\n",
       "    .dataframe thead th {\n",
       "        text-align: right;\n",
       "    }\n",
       "</style>\n",
       "<table border=\"1\" class=\"dataframe\">\n",
       "  <thead>\n",
       "    <tr style=\"text-align: right;\">\n",
       "      <th></th>\n",
       "    </tr>\n",
       "  </thead>\n",
       "  <tbody>\n",
       "    <tr>\n",
       "      <th>onefilepercell_A10_R1_and_others_KC4RZ:A10_R1.fastq.gzAligned.sortedByCoord.out.bam</th>\n",
       "    </tr>\n",
       "    <tr>\n",
       "      <th>onefilepercell_A10_R1_and_others_KC4RZ:A11_R1.fastq.gzAligned.sortedByCoord.out.bam</th>\n",
       "    </tr>\n",
       "    <tr>\n",
       "      <th>onefilepercell_A10_R1_and_others_KC4RZ:A12_R1.fastq.gzAligned.sortedByCoord.out.bam</th>\n",
       "    </tr>\n",
       "    <tr>\n",
       "      <th>onefilepercell_A10_R1_and_others_KC4RZ:A13_R1.fastq.gzAligned.sortedByCoord.out.bam</th>\n",
       "    </tr>\n",
       "    <tr>\n",
       "      <th>onefilepercell_A10_R1_and_others_KC4RZ:A14_R1.fastq.gzAligned.sortedByCoord.out.bam</th>\n",
       "    </tr>\n",
       "    <tr>\n",
       "      <th>...</th>\n",
       "    </tr>\n",
       "    <tr>\n",
       "      <th>onefilepercell_A10_R1_and_others_KC4RZ:P5_R1.fastq.gzAligned.sortedByCoord.out.bam</th>\n",
       "    </tr>\n",
       "    <tr>\n",
       "      <th>onefilepercell_A10_R1_and_others_KC4RZ:P6_R1.fastq.gzAligned.sortedByCoord.out.bam</th>\n",
       "    </tr>\n",
       "    <tr>\n",
       "      <th>onefilepercell_A10_R1_and_others_KC4RZ:P7_R1.fastq.gzAligned.sortedByCoord.out.bam</th>\n",
       "    </tr>\n",
       "    <tr>\n",
       "      <th>onefilepercell_A10_R1_and_others_KC4RZ:P8_R1.fastq.gzAligned.sortedByCoord.out.bam</th>\n",
       "    </tr>\n",
       "    <tr>\n",
       "      <th>onefilepercell_A10_R1_and_others_KC4RZ:P9_R1.fastq.gzAligned.sortedByCoord.out.bam</th>\n",
       "    </tr>\n",
       "  </tbody>\n",
       "</table>\n",
       "<p>383 rows × 0 columns</p>\n",
       "</div>"
      ],
      "text/plain": [
       "Empty DataFrame\n",
       "Columns: []\n",
       "Index: [onefilepercell_A10_R1_and_others_KC4RZ:A10_R1.fastq.gzAligned.sortedByCoord.out.bam, onefilepercell_A10_R1_and_others_KC4RZ:A11_R1.fastq.gzAligned.sortedByCoord.out.bam, onefilepercell_A10_R1_and_others_KC4RZ:A12_R1.fastq.gzAligned.sortedByCoord.out.bam, onefilepercell_A10_R1_and_others_KC4RZ:A13_R1.fastq.gzAligned.sortedByCoord.out.bam, onefilepercell_A10_R1_and_others_KC4RZ:A14_R1.fastq.gzAligned.sortedByCoord.out.bam, onefilepercell_A10_R1_and_others_KC4RZ:A15_R1.fastq.gzAligned.sortedByCoord.out.bam, onefilepercell_A10_R1_and_others_KC4RZ:A16_R1.fastq.gzAligned.sortedByCoord.out.bam, onefilepercell_A10_R1_and_others_KC4RZ:A17_R1.fastq.gzAligned.sortedByCoord.out.bam, onefilepercell_A10_R1_and_others_KC4RZ:A18_R1.fastq.gzAligned.sortedByCoord.out.bam, onefilepercell_A10_R1_and_others_KC4RZ:A19_R1.fastq.gzAligned.sortedByCoord.out.bam, onefilepercell_A10_R1_and_others_KC4RZ:A1_R1.fastq.gzAligned.sortedByCoord.out.bam, onefilepercell_A10_R1_and_others_KC4RZ:A20_R1.fastq.gzAligned.sortedByCoord.out.bam, onefilepercell_A10_R1_and_others_KC4RZ:A21_R1.fastq.gzAligned.sortedByCoord.out.bam, onefilepercell_A10_R1_and_others_KC4RZ:A22_R1.fastq.gzAligned.sortedByCoord.out.bam, onefilepercell_A10_R1_and_others_KC4RZ:A23_R1.fastq.gzAligned.sortedByCoord.out.bam, onefilepercell_A10_R1_and_others_KC4RZ:A24_R1.fastq.gzAligned.sortedByCoord.out.bam, onefilepercell_A10_R1_and_others_KC4RZ:A2_R1.fastq.gzAligned.sortedByCoord.out.bam, onefilepercell_A10_R1_and_others_KC4RZ:A3_R1.fastq.gzAligned.sortedByCoord.out.bam, onefilepercell_A10_R1_and_others_KC4RZ:A4_R1.fastq.gzAligned.sortedByCoord.out.bam, onefilepercell_A10_R1_and_others_KC4RZ:A5_R1.fastq.gzAligned.sortedByCoord.out.bam, onefilepercell_A10_R1_and_others_KC4RZ:A6_R1.fastq.gzAligned.sortedByCoord.out.bam, onefilepercell_A10_R1_and_others_KC4RZ:A7_R1.fastq.gzAligned.sortedByCoord.out.bam, onefilepercell_A10_R1_and_others_KC4RZ:A8_R1.fastq.gzAligned.sortedByCoord.out.bam, onefilepercell_A10_R1_and_others_KC4RZ:A9_R1.fastq.gzAligned.sortedByCoord.out.bam, onefilepercell_A10_R1_and_others_KC4RZ:B10_R1.fastq.gzAligned.sortedByCoord.out.bam, onefilepercell_A10_R1_and_others_KC4RZ:B11_R1.fastq.gzAligned.sortedByCoord.out.bam, onefilepercell_A10_R1_and_others_KC4RZ:B12_R1.fastq.gzAligned.sortedByCoord.out.bam, onefilepercell_A10_R1_and_others_KC4RZ:B13_R1.fastq.gzAligned.sortedByCoord.out.bam, onefilepercell_A10_R1_and_others_KC4RZ:B14_R1.fastq.gzAligned.sortedByCoord.out.bam, onefilepercell_A10_R1_and_others_KC4RZ:B15_R1.fastq.gzAligned.sortedByCoord.out.bam, onefilepercell_A10_R1_and_others_KC4RZ:B16_R1.fastq.gzAligned.sortedByCoord.out.bam, onefilepercell_A10_R1_and_others_KC4RZ:B17_R1.fastq.gzAligned.sortedByCoord.out.bam, onefilepercell_A10_R1_and_others_KC4RZ:B18_R1.fastq.gzAligned.sortedByCoord.out.bam, onefilepercell_A10_R1_and_others_KC4RZ:B19_R1.fastq.gzAligned.sortedByCoord.out.bam, onefilepercell_A10_R1_and_others_KC4RZ:B1_R1.fastq.gzAligned.sortedByCoord.out.bam, onefilepercell_A10_R1_and_others_KC4RZ:B20_R1.fastq.gzAligned.sortedByCoord.out.bam, onefilepercell_A10_R1_and_others_KC4RZ:B21_R1.fastq.gzAligned.sortedByCoord.out.bam, onefilepercell_A10_R1_and_others_KC4RZ:B22_R1.fastq.gzAligned.sortedByCoord.out.bam, onefilepercell_A10_R1_and_others_KC4RZ:B23_R1.fastq.gzAligned.sortedByCoord.out.bam, onefilepercell_A10_R1_and_others_KC4RZ:B24_R1.fastq.gzAligned.sortedByCoord.out.bam, onefilepercell_A10_R1_and_others_KC4RZ:B2_R1.fastq.gzAligned.sortedByCoord.out.bam, onefilepercell_A10_R1_and_others_KC4RZ:B3_R1.fastq.gzAligned.sortedByCoord.out.bam, onefilepercell_A10_R1_and_others_KC4RZ:B4_R1.fastq.gzAligned.sortedByCoord.out.bam, onefilepercell_A10_R1_and_others_KC4RZ:B5_R1.fastq.gzAligned.sortedByCoord.out.bam, onefilepercell_A10_R1_and_others_KC4RZ:B6_R1.fastq.gzAligned.sortedByCoord.out.bam, onefilepercell_A10_R1_and_others_KC4RZ:B7_R1.fastq.gzAligned.sortedByCoord.out.bam, onefilepercell_A10_R1_and_others_KC4RZ:B8_R1.fastq.gzAligned.sortedByCoord.out.bam, onefilepercell_A10_R1_and_others_KC4RZ:B9_R1.fastq.gzAligned.sortedByCoord.out.bam, onefilepercell_A10_R1_and_others_KC4RZ:C10_R1.fastq.gzAligned.sortedByCoord.out.bam, onefilepercell_A10_R1_and_others_KC4RZ:C11_R1.fastq.gzAligned.sortedByCoord.out.bam, onefilepercell_A10_R1_and_others_KC4RZ:C12_R1.fastq.gzAligned.sortedByCoord.out.bam, onefilepercell_A10_R1_and_others_KC4RZ:C13_R1.fastq.gzAligned.sortedByCoord.out.bam, onefilepercell_A10_R1_and_others_KC4RZ:C14_R1.fastq.gzAligned.sortedByCoord.out.bam, onefilepercell_A10_R1_and_others_KC4RZ:C15_R1.fastq.gzAligned.sortedByCoord.out.bam, onefilepercell_A10_R1_and_others_KC4RZ:C16_R1.fastq.gzAligned.sortedByCoord.out.bam, onefilepercell_A10_R1_and_others_KC4RZ:C17_R1.fastq.gzAligned.sortedByCoord.out.bam, onefilepercell_A10_R1_and_others_KC4RZ:C18_R1.fastq.gzAligned.sortedByCoord.out.bam, onefilepercell_A10_R1_and_others_KC4RZ:C19_R1.fastq.gzAligned.sortedByCoord.out.bam, onefilepercell_A10_R1_and_others_KC4RZ:C1_R1.fastq.gzAligned.sortedByCoord.out.bam, onefilepercell_A10_R1_and_others_KC4RZ:C20_R1.fastq.gzAligned.sortedByCoord.out.bam, onefilepercell_A10_R1_and_others_KC4RZ:C21_R1.fastq.gzAligned.sortedByCoord.out.bam, onefilepercell_A10_R1_and_others_KC4RZ:C22_R1.fastq.gzAligned.sortedByCoord.out.bam, onefilepercell_A10_R1_and_others_KC4RZ:C23_R1.fastq.gzAligned.sortedByCoord.out.bam, onefilepercell_A10_R1_and_others_KC4RZ:C24_R1.fastq.gzAligned.sortedByCoord.out.bam, onefilepercell_A10_R1_and_others_KC4RZ:C2_R1.fastq.gzAligned.sortedByCoord.out.bam, onefilepercell_A10_R1_and_others_KC4RZ:C3_R1.fastq.gzAligned.sortedByCoord.out.bam, onefilepercell_A10_R1_and_others_KC4RZ:C4_R1.fastq.gzAligned.sortedByCoord.out.bam, onefilepercell_A10_R1_and_others_KC4RZ:C5_R1.fastq.gzAligned.sortedByCoord.out.bam, onefilepercell_A10_R1_and_others_KC4RZ:C6_R1.fastq.gzAligned.sortedByCoord.out.bam, onefilepercell_A10_R1_and_others_KC4RZ:C7_R1.fastq.gzAligned.sortedByCoord.out.bam, onefilepercell_A10_R1_and_others_KC4RZ:C8_R1.fastq.gzAligned.sortedByCoord.out.bam, onefilepercell_A10_R1_and_others_KC4RZ:C9_R1.fastq.gzAligned.sortedByCoord.out.bam, onefilepercell_A10_R1_and_others_KC4RZ:D10_R1.fastq.gzAligned.sortedByCoord.out.bam, onefilepercell_A10_R1_and_others_KC4RZ:D11_R1.fastq.gzAligned.sortedByCoord.out.bam, onefilepercell_A10_R1_and_others_KC4RZ:D12_R1.fastq.gzAligned.sortedByCoord.out.bam, onefilepercell_A10_R1_and_others_KC4RZ:D13_R1.fastq.gzAligned.sortedByCoord.out.bam, onefilepercell_A10_R1_and_others_KC4RZ:D14_R1.fastq.gzAligned.sortedByCoord.out.bam, onefilepercell_A10_R1_and_others_KC4RZ:D15_R1.fastq.gzAligned.sortedByCoord.out.bam, onefilepercell_A10_R1_and_others_KC4RZ:D16_R1.fastq.gzAligned.sortedByCoord.out.bam, onefilepercell_A10_R1_and_others_KC4RZ:D17_R1.fastq.gzAligned.sortedByCoord.out.bam, onefilepercell_A10_R1_and_others_KC4RZ:D18_R1.fastq.gzAligned.sortedByCoord.out.bam, onefilepercell_A10_R1_and_others_KC4RZ:D19_R1.fastq.gzAligned.sortedByCoord.out.bam, onefilepercell_A10_R1_and_others_KC4RZ:D1_R1.fastq.gzAligned.sortedByCoord.out.bam, onefilepercell_A10_R1_and_others_KC4RZ:D20_R1.fastq.gzAligned.sortedByCoord.out.bam, onefilepercell_A10_R1_and_others_KC4RZ:D21_R1.fastq.gzAligned.sortedByCoord.out.bam, onefilepercell_A10_R1_and_others_KC4RZ:D22_R1.fastq.gzAligned.sortedByCoord.out.bam, onefilepercell_A10_R1_and_others_KC4RZ:D23_R1.fastq.gzAligned.sortedByCoord.out.bam, onefilepercell_A10_R1_and_others_KC4RZ:D24_R1.fastq.gzAligned.sortedByCoord.out.bam, onefilepercell_A10_R1_and_others_KC4RZ:D2_R1.fastq.gzAligned.sortedByCoord.out.bam, onefilepercell_A10_R1_and_others_KC4RZ:D3_R1.fastq.gzAligned.sortedByCoord.out.bam, onefilepercell_A10_R1_and_others_KC4RZ:D4_R1.fastq.gzAligned.sortedByCoord.out.bam, onefilepercell_A10_R1_and_others_KC4RZ:D5_R1.fastq.gzAligned.sortedByCoord.out.bam, onefilepercell_A10_R1_and_others_KC4RZ:D6_R1.fastq.gzAligned.sortedByCoord.out.bam, onefilepercell_A10_R1_and_others_KC4RZ:D7_R1.fastq.gzAligned.sortedByCoord.out.bam, onefilepercell_A10_R1_and_others_KC4RZ:D8_R1.fastq.gzAligned.sortedByCoord.out.bam, onefilepercell_A10_R1_and_others_KC4RZ:D9_R1.fastq.gzAligned.sortedByCoord.out.bam, onefilepercell_A10_R1_and_others_KC4RZ:E10_R1.fastq.gzAligned.sortedByCoord.out.bam, onefilepercell_A10_R1_and_others_KC4RZ:E11_R1.fastq.gzAligned.sortedByCoord.out.bam, onefilepercell_A10_R1_and_others_KC4RZ:E12_R1.fastq.gzAligned.sortedByCoord.out.bam, onefilepercell_A10_R1_and_others_KC4RZ:E13_R1.fastq.gzAligned.sortedByCoord.out.bam, ...]\n",
       "\n",
       "[383 rows x 0 columns]"
      ]
     },
     "execution_count": 17,
     "metadata": {},
     "output_type": "execute_result"
    }
   ],
   "source": [
    "adata.obs"
   ]
  },
  {
   "cell_type": "code",
   "execution_count": 18,
   "metadata": {},
   "outputs": [
    {
     "data": {
      "text/html": [
       "<div>\n",
       "<style scoped>\n",
       "    .dataframe tbody tr th:only-of-type {\n",
       "        vertical-align: middle;\n",
       "    }\n",
       "\n",
       "    .dataframe tbody tr th {\n",
       "        vertical-align: top;\n",
       "    }\n",
       "\n",
       "    .dataframe thead th {\n",
       "        text-align: right;\n",
       "    }\n",
       "</style>\n",
       "<table border=\"1\" class=\"dataframe\">\n",
       "  <thead>\n",
       "    <tr style=\"text-align: right;\">\n",
       "      <th></th>\n",
       "      <th>0</th>\n",
       "    </tr>\n",
       "  </thead>\n",
       "  <tbody>\n",
       "    <tr>\n",
       "      <th>0</th>\n",
       "      <td>131_A10</td>\n",
       "    </tr>\n",
       "    <tr>\n",
       "      <th>1</th>\n",
       "      <td>131_A11</td>\n",
       "    </tr>\n",
       "    <tr>\n",
       "      <th>2</th>\n",
       "      <td>131_A13</td>\n",
       "    </tr>\n",
       "    <tr>\n",
       "      <th>3</th>\n",
       "      <td>131_A14</td>\n",
       "    </tr>\n",
       "    <tr>\n",
       "      <th>4</th>\n",
       "      <td>131_A15</td>\n",
       "    </tr>\n",
       "    <tr>\n",
       "      <th>...</th>\n",
       "      <td>...</td>\n",
       "    </tr>\n",
       "    <tr>\n",
       "      <th>281</th>\n",
       "      <td>131_P3</td>\n",
       "    </tr>\n",
       "    <tr>\n",
       "      <th>282</th>\n",
       "      <td>131_P5</td>\n",
       "    </tr>\n",
       "    <tr>\n",
       "      <th>283</th>\n",
       "      <td>131_P6</td>\n",
       "    </tr>\n",
       "    <tr>\n",
       "      <th>284</th>\n",
       "      <td>131_P7</td>\n",
       "    </tr>\n",
       "    <tr>\n",
       "      <th>285</th>\n",
       "      <td>131_P8</td>\n",
       "    </tr>\n",
       "  </tbody>\n",
       "</table>\n",
       "<p>286 rows × 1 columns</p>\n",
       "</div>"
      ],
      "text/plain": [
       "           0\n",
       "0    131_A10\n",
       "1    131_A11\n",
       "2    131_A13\n",
       "3    131_A14\n",
       "4    131_A15\n",
       "..       ...\n",
       "281   131_P3\n",
       "282   131_P5\n",
       "283   131_P6\n",
       "284   131_P7\n",
       "285   131_P8\n",
       "\n",
       "[286 rows x 1 columns]"
      ]
     },
     "execution_count": 18,
     "metadata": {},
     "output_type": "execute_result"
    }
   ],
   "source": [
    "cell_names = pd.read_csv(\"/Users/franziskahildebrandt/t.gondi_dc/cellnames_131.csv\", delim_whitespace= True, header = None)\n",
    "cell_names"
   ]
  },
  {
   "cell_type": "code",
   "execution_count": 25,
   "metadata": {},
   "outputs": [
    {
     "name": "stderr",
     "output_type": "stream",
     "text": [
      "Variable names are not unique. To make them unique, call `.var_names_make_unique`.\n",
      "Variable names are not unique. To make them unique, call `.var_names_make_unique`.\n",
      "Variable names are not unique. To make them unique, call `.var_names_make_unique`.\n",
      "Variable names are not unique. To make them unique, call `.var_names_make_unique`.\n"
     ]
    },
    {
     "name": "stdout",
     "output_type": "stream",
     "text": [
      "WARNING: Did not normalize X as it looks processed already. To enforce normalization, set `enforce=True`.\n",
      "WARNING: Did not normalize spliced as it looks processed already. To enforce normalization, set `enforce=True`.\n",
      "WARNING: Did not normalize unspliced as it looks processed already. To enforce normalization, set `enforce=True`.\n",
      "WARNING: Did not modify X as it looks preprocessed already.\n"
     ]
    },
    {
     "ename": "SystemError",
     "evalue": "CPUDispatcher(<function sparse_mean_var_minor_axis at 0x7fb6055d8550>) returned a result with an error set",
     "output_type": "error",
     "traceback": [
      "\u001b[0;31m---------------------------------------------------------------------------\u001b[0m",
      "\u001b[0;31mTypeError\u001b[0m                                 Traceback (most recent call last)",
      "\u001b[0;31mTypeError\u001b[0m: expected dtype object, got 'numpy.dtype[float64]'",
      "\nThe above exception was the direct cause of the following exception:\n",
      "\u001b[0;31mSystemError\u001b[0m                               Traceback (most recent call last)",
      "\u001b[0;32m<ipython-input-25-9660ff258fc9>\u001b[0m in \u001b[0;36m<module>\u001b[0;34m\u001b[0m\n\u001b[1;32m      1\u001b[0m \u001b[0mscv\u001b[0m\u001b[0;34m.\u001b[0m\u001b[0mpp\u001b[0m\u001b[0;34m.\u001b[0m\u001b[0mfilter_and_normalize\u001b[0m\u001b[0;34m(\u001b[0m\u001b[0madata\u001b[0m\u001b[0;34m)\u001b[0m\u001b[0;34m\u001b[0m\u001b[0;34m\u001b[0m\u001b[0m\n\u001b[0;32m----> 2\u001b[0;31m \u001b[0mscv\u001b[0m\u001b[0;34m.\u001b[0m\u001b[0mpp\u001b[0m\u001b[0;34m.\u001b[0m\u001b[0mmoments\u001b[0m\u001b[0;34m(\u001b[0m\u001b[0madata\u001b[0m\u001b[0;34m)\u001b[0m\u001b[0;34m\u001b[0m\u001b[0;34m\u001b[0m\u001b[0m\n\u001b[0m",
      "\u001b[0;32m~/anaconda3/lib/python3.8/site-packages/scvelo/preprocessing/moments.py\u001b[0m in \u001b[0;36mmoments\u001b[0;34m(data, n_neighbors, n_pcs, mode, method, use_rep, use_highly_variable, copy)\u001b[0m\n\u001b[1;32m     62\u001b[0m \u001b[0;34m\u001b[0m\u001b[0m\n\u001b[1;32m     63\u001b[0m     \u001b[0;32mif\u001b[0m \u001b[0mn_neighbors\u001b[0m \u001b[0;32mis\u001b[0m \u001b[0;32mnot\u001b[0m \u001b[0;32mNone\u001b[0m \u001b[0;32mand\u001b[0m \u001b[0mn_neighbors\u001b[0m \u001b[0;34m>\u001b[0m \u001b[0mget_n_neighs\u001b[0m\u001b[0;34m(\u001b[0m\u001b[0madata\u001b[0m\u001b[0;34m)\u001b[0m\u001b[0;34m:\u001b[0m\u001b[0;34m\u001b[0m\u001b[0;34m\u001b[0m\u001b[0m\n\u001b[0;32m---> 64\u001b[0;31m         neighbors(\n\u001b[0m\u001b[1;32m     65\u001b[0m             \u001b[0madata\u001b[0m\u001b[0;34m,\u001b[0m\u001b[0;34m\u001b[0m\u001b[0;34m\u001b[0m\u001b[0m\n\u001b[1;32m     66\u001b[0m             \u001b[0mn_neighbors\u001b[0m\u001b[0;34m=\u001b[0m\u001b[0mn_neighbors\u001b[0m\u001b[0;34m,\u001b[0m\u001b[0;34m\u001b[0m\u001b[0;34m\u001b[0m\u001b[0m\n",
      "\u001b[0;32m~/anaconda3/lib/python3.8/site-packages/scvelo/preprocessing/neighbors.py\u001b[0m in \u001b[0;36mneighbors\u001b[0;34m(adata, n_neighbors, n_pcs, use_rep, use_highly_variable, knn, random_state, method, metric, metric_kwds, num_threads, copy)\u001b[0m\n\u001b[1;32m    107\u001b[0m             \u001b[0mn_comps\u001b[0m \u001b[0;34m=\u001b[0m \u001b[0mmin\u001b[0m\u001b[0;34m(\u001b[0m\u001b[0;36m30\u001b[0m \u001b[0;32mif\u001b[0m \u001b[0mn_pcs\u001b[0m \u001b[0;32mis\u001b[0m \u001b[0;32mNone\u001b[0m \u001b[0;32melse\u001b[0m \u001b[0mn_pcs\u001b[0m\u001b[0;34m,\u001b[0m \u001b[0mn_vars\u001b[0m \u001b[0;34m-\u001b[0m \u001b[0;36m1\u001b[0m\u001b[0;34m,\u001b[0m \u001b[0madata\u001b[0m\u001b[0;34m.\u001b[0m\u001b[0mn_obs\u001b[0m \u001b[0;34m-\u001b[0m \u001b[0;36m1\u001b[0m\u001b[0;34m)\u001b[0m\u001b[0;34m\u001b[0m\u001b[0;34m\u001b[0m\u001b[0m\n\u001b[1;32m    108\u001b[0m             \u001b[0muse_highly_variable\u001b[0m \u001b[0;34m&=\u001b[0m \u001b[0;34m\"highly_variable\"\u001b[0m \u001b[0;32min\u001b[0m \u001b[0madata\u001b[0m\u001b[0;34m.\u001b[0m\u001b[0mvar\u001b[0m\u001b[0;34m.\u001b[0m\u001b[0mkeys\u001b[0m\u001b[0;34m(\u001b[0m\u001b[0;34m)\u001b[0m\u001b[0;34m\u001b[0m\u001b[0;34m\u001b[0m\u001b[0m\n\u001b[0;32m--> 109\u001b[0;31m             pca(\n\u001b[0m\u001b[1;32m    110\u001b[0m                 \u001b[0madata\u001b[0m\u001b[0;34m,\u001b[0m\u001b[0;34m\u001b[0m\u001b[0;34m\u001b[0m\u001b[0m\n\u001b[1;32m    111\u001b[0m                 \u001b[0mn_comps\u001b[0m\u001b[0;34m=\u001b[0m\u001b[0mn_comps\u001b[0m\u001b[0;34m,\u001b[0m\u001b[0;34m\u001b[0m\u001b[0;34m\u001b[0m\u001b[0m\n",
      "\u001b[0;32m~/anaconda3/lib/python3.8/site-packages/scanpy/preprocessing/_pca.py\u001b[0m in \u001b[0;36mpca\u001b[0;34m(data, n_comps, zero_center, svd_solver, random_state, return_info, use_highly_variable, dtype, copy, chunked, chunk_size)\u001b[0m\n\u001b[1;32m    198\u001b[0m             )\n\u001b[1;32m    199\u001b[0m \u001b[0;34m\u001b[0m\u001b[0m\n\u001b[0;32m--> 200\u001b[0;31m         output = _pca_with_sparse(\n\u001b[0m\u001b[1;32m    201\u001b[0m             \u001b[0mX\u001b[0m\u001b[0;34m,\u001b[0m \u001b[0mn_comps\u001b[0m\u001b[0;34m,\u001b[0m \u001b[0msolver\u001b[0m\u001b[0;34m=\u001b[0m\u001b[0msvd_solver\u001b[0m\u001b[0;34m,\u001b[0m \u001b[0mrandom_state\u001b[0m\u001b[0;34m=\u001b[0m\u001b[0mrandom_state\u001b[0m\u001b[0;34m\u001b[0m\u001b[0;34m\u001b[0m\u001b[0m\n\u001b[1;32m    202\u001b[0m         )\n",
      "\u001b[0;32m~/anaconda3/lib/python3.8/site-packages/scanpy/preprocessing/_pca.py\u001b[0m in \u001b[0;36m_pca_with_sparse\u001b[0;34m(X, npcs, solver, mu, random_state)\u001b[0m\n\u001b[1;32m    309\u001b[0m     \u001b[0mev\u001b[0m \u001b[0;34m=\u001b[0m \u001b[0ms\u001b[0m\u001b[0;34m[\u001b[0m\u001b[0midx\u001b[0m\u001b[0;34m]\u001b[0m \u001b[0;34m**\u001b[0m \u001b[0;36m2\u001b[0m \u001b[0;34m/\u001b[0m \u001b[0;34m(\u001b[0m\u001b[0mX\u001b[0m\u001b[0;34m.\u001b[0m\u001b[0mshape\u001b[0m\u001b[0;34m[\u001b[0m\u001b[0;36m0\u001b[0m\u001b[0;34m]\u001b[0m \u001b[0;34m-\u001b[0m \u001b[0;36m1\u001b[0m\u001b[0;34m)\u001b[0m\u001b[0;34m\u001b[0m\u001b[0;34m\u001b[0m\u001b[0m\n\u001b[1;32m    310\u001b[0m \u001b[0;34m\u001b[0m\u001b[0m\n\u001b[0;32m--> 311\u001b[0;31m     \u001b[0mtotal_var\u001b[0m \u001b[0;34m=\u001b[0m \u001b[0m_get_mean_var\u001b[0m\u001b[0;34m(\u001b[0m\u001b[0mX\u001b[0m\u001b[0;34m)\u001b[0m\u001b[0;34m[\u001b[0m\u001b[0;36m1\u001b[0m\u001b[0;34m]\u001b[0m\u001b[0;34m.\u001b[0m\u001b[0msum\u001b[0m\u001b[0;34m(\u001b[0m\u001b[0;34m)\u001b[0m\u001b[0;34m\u001b[0m\u001b[0;34m\u001b[0m\u001b[0m\n\u001b[0m\u001b[1;32m    312\u001b[0m     \u001b[0mev_ratio\u001b[0m \u001b[0;34m=\u001b[0m \u001b[0mev\u001b[0m \u001b[0;34m/\u001b[0m \u001b[0mtotal_var\u001b[0m\u001b[0;34m\u001b[0m\u001b[0;34m\u001b[0m\u001b[0m\n\u001b[1;32m    313\u001b[0m \u001b[0;34m\u001b[0m\u001b[0m\n",
      "\u001b[0;32m~/anaconda3/lib/python3.8/site-packages/scanpy/preprocessing/_utils.py\u001b[0m in \u001b[0;36m_get_mean_var\u001b[0;34m(X, axis)\u001b[0m\n\u001b[1;32m      6\u001b[0m \u001b[0;32mdef\u001b[0m \u001b[0m_get_mean_var\u001b[0m\u001b[0;34m(\u001b[0m\u001b[0mX\u001b[0m\u001b[0;34m,\u001b[0m \u001b[0;34m*\u001b[0m\u001b[0;34m,\u001b[0m \u001b[0maxis\u001b[0m\u001b[0;34m=\u001b[0m\u001b[0;36m0\u001b[0m\u001b[0;34m)\u001b[0m\u001b[0;34m:\u001b[0m\u001b[0;34m\u001b[0m\u001b[0;34m\u001b[0m\u001b[0m\n\u001b[1;32m      7\u001b[0m     \u001b[0;32mif\u001b[0m \u001b[0msparse\u001b[0m\u001b[0;34m.\u001b[0m\u001b[0missparse\u001b[0m\u001b[0;34m(\u001b[0m\u001b[0mX\u001b[0m\u001b[0;34m)\u001b[0m\u001b[0;34m:\u001b[0m\u001b[0;34m\u001b[0m\u001b[0;34m\u001b[0m\u001b[0m\n\u001b[0;32m----> 8\u001b[0;31m         \u001b[0mmean\u001b[0m\u001b[0;34m,\u001b[0m \u001b[0mvar\u001b[0m \u001b[0;34m=\u001b[0m \u001b[0msparse_mean_variance_axis\u001b[0m\u001b[0;34m(\u001b[0m\u001b[0mX\u001b[0m\u001b[0;34m,\u001b[0m \u001b[0maxis\u001b[0m\u001b[0;34m=\u001b[0m\u001b[0maxis\u001b[0m\u001b[0;34m)\u001b[0m\u001b[0;34m\u001b[0m\u001b[0;34m\u001b[0m\u001b[0m\n\u001b[0m\u001b[1;32m      9\u001b[0m     \u001b[0;32melse\u001b[0m\u001b[0;34m:\u001b[0m\u001b[0;34m\u001b[0m\u001b[0;34m\u001b[0m\u001b[0m\n\u001b[1;32m     10\u001b[0m         \u001b[0mmean\u001b[0m \u001b[0;34m=\u001b[0m \u001b[0mnp\u001b[0m\u001b[0;34m.\u001b[0m\u001b[0mmean\u001b[0m\u001b[0;34m(\u001b[0m\u001b[0mX\u001b[0m\u001b[0;34m,\u001b[0m \u001b[0maxis\u001b[0m\u001b[0;34m=\u001b[0m\u001b[0maxis\u001b[0m\u001b[0;34m,\u001b[0m \u001b[0mdtype\u001b[0m\u001b[0;34m=\u001b[0m\u001b[0mnp\u001b[0m\u001b[0;34m.\u001b[0m\u001b[0mfloat64\u001b[0m\u001b[0;34m)\u001b[0m\u001b[0;34m\u001b[0m\u001b[0;34m\u001b[0m\u001b[0m\n",
      "\u001b[0;32m~/anaconda3/lib/python3.8/site-packages/scanpy/preprocessing/_utils.py\u001b[0m in \u001b[0;36msparse_mean_variance_axis\u001b[0;34m(mtx, axis)\u001b[0m\n\u001b[1;32m     40\u001b[0m         )\n\u001b[1;32m     41\u001b[0m     \u001b[0;32melse\u001b[0m\u001b[0;34m:\u001b[0m\u001b[0;34m\u001b[0m\u001b[0;34m\u001b[0m\u001b[0m\n\u001b[0;32m---> 42\u001b[0;31m         \u001b[0;32mreturn\u001b[0m \u001b[0msparse_mean_var_minor_axis\u001b[0m\u001b[0;34m(\u001b[0m\u001b[0mmtx\u001b[0m\u001b[0;34m.\u001b[0m\u001b[0mdata\u001b[0m\u001b[0;34m,\u001b[0m \u001b[0mmtx\u001b[0m\u001b[0;34m.\u001b[0m\u001b[0mindices\u001b[0m\u001b[0;34m,\u001b[0m \u001b[0;34m*\u001b[0m\u001b[0mshape\u001b[0m\u001b[0;34m,\u001b[0m \u001b[0mnp\u001b[0m\u001b[0;34m.\u001b[0m\u001b[0mfloat64\u001b[0m\u001b[0;34m)\u001b[0m\u001b[0;34m\u001b[0m\u001b[0;34m\u001b[0m\u001b[0m\n\u001b[0m\u001b[1;32m     43\u001b[0m \u001b[0;34m\u001b[0m\u001b[0m\n\u001b[1;32m     44\u001b[0m \u001b[0;34m\u001b[0m\u001b[0m\n",
      "\u001b[0;31mSystemError\u001b[0m: CPUDispatcher(<function sparse_mean_var_minor_axis at 0x7fb6055d8550>) returned a result with an error set"
     ]
    }
   ],
   "source": [
    "scv.pp.filter_and_normalize(adata)\n",
    "scv.pp.moments(adata)"
   ]
  },
  {
   "cell_type": "code",
   "execution_count": 26,
   "metadata": {},
   "outputs": [
    {
     "data": {
      "image/png": "[encoded data removed]",
      "text/plain": [
       "<Figure size 1000x200 with 1 Axes>"
      ]
     },
     "metadata": {
      "image/png": {
       "height": 196,
       "width": 172
      }
     },
     "output_type": "display_data"
    }
   ],
   "source": [
    "scv.pl.proportions(adata)"
   ]
  },
  {
   "cell_type": "code",
   "execution_count": null,
   "metadata": {},
   "outputs": [],
   "source": []
  }
 ],
 "metadata": {
  "kernelspec": {
   "display_name": "Python 3",
   "language": "python",
   "name": "python3"
  },
  "language_info": {
   "codemirror_mode": {
    "name": "ipython",
    "version": 3
   },
   "file_extension": ".py",
   "mimetype": "text/x-python",
   "name": "python",
   "nbconvert_exporter": "python",
   "pygments_lexer": "ipython3",
   "version": "3.8.3"
  }
 },
 "nbformat": 4,
 "nbformat_minor": 4
}
